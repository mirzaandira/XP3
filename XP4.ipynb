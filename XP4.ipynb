{
 "cells": [
  {
   "cell_type": "code",
   "execution_count": 2,
   "id": "4f1eb679",
   "metadata": {},
   "outputs": [
    {
     "name": "stdout",
     "output_type": "stream",
     "text": [
      "\n",
      " hasil pejumlahan = 15\n",
      "\n",
      " hasil pengurahan = 3\n",
      "\n",
      " hasil perkalian = 54\n",
      "\n",
      " hasil pembagian = 1.5\n",
      "hasil modulus = 3\n"
     ]
    }
   ],
   "source": [
    "a = 9\n",
    "b = 6\n",
    "\n",
    "#pertambahan\n",
    "hasil = a + b\n",
    "print(\"\\n hasil pejumlahan =\", hasil)\n",
    "\n",
    "#pengurangan\n",
    "hasil = a - b\n",
    "print(\"\\n hasil pengurahan =\", hasil)\n",
    "\n",
    "#perkalian\n",
    "hasil = a * b\n",
    "print(\"\\n hasil perkalian =\",hasil)\n",
    "\n",
    "#pembagian\n",
    "hasil = a / b\n",
    "print(\"\\n hasil pembagian =\",hasil)\n",
    "\n",
    "#modulus\n",
    "hasil = a % b\n",
    "print(\"hasil modulus =\", hasil)\n",
    "\n"
   ]
  },
  {
   "cell_type": "code",
   "execution_count": 6,
   "id": "098677a5",
   "metadata": {},
   "outputs": [
    {
     "name": "stdout",
     "output_type": "stream",
     "text": [
      "a = 10 -> 10\n",
      "a += 5 -> 15\n",
      "a -= 3-> 12\n",
      "a *= 6-> 72\n",
      "a /= 8-> 9.0\n"
     ]
    }
   ],
   "source": [
    "a = 10\n",
    "print('a = 10 ->',a)\n",
    "\n",
    "a += 5\n",
    "print('a += 5 ->',a)\n",
    "\n",
    "a -= 3\n",
    "print('a -= 3->',a)\n",
    "\n",
    "a *= 6\n",
    "print('a *= 6->',a )\n",
    "\n",
    "a /= 8\n",
    "print('a /= 8->',a)"
   ]
  },
  {
   "cell_type": "code",
   "execution_count": 9,
   "id": "56bcfbd4",
   "metadata": {},
   "outputs": [
    {
     "data": {
      "text/plain": [
       "20.5"
      ]
     },
     "execution_count": 9,
     "metadata": {},
     "output_type": "execute_result"
    }
   ],
   "source": [
    "#latihan\n",
    "\n",
    "5*2**2+10/20\n"
   ]
  },
  {
   "cell_type": "code",
   "execution_count": 15,
   "id": "3d5a85fe",
   "metadata": {},
   "outputs": [
    {
     "name": "stdout",
     "output_type": "stream",
     "text": [
      "9 > 6 = True\n",
      "9 < 6 = False\n",
      "9 == 6 = False\n",
      "9 != 6 = True\n",
      "9 >= 6 = True\n"
     ]
    }
   ],
   "source": [
    "#perbandingan\n",
    "\n",
    "a,b=9,6\n",
    "\n",
    "print(a, '>',b, '=',a>b)\n",
    "print(a,'<',b,'=',a<b)\n",
    "print(a,'==',b,'=',a==b)\n",
    "print(a,'!=',b,'=',a!=b)\n",
    "print(a,'>=',b,'=',a>=b)"
   ]
  },
  {
   "cell_type": "code",
   "execution_count": 25,
   "id": "aa1d7ce5",
   "metadata": {},
   "outputs": [
    {
     "name": "stdout",
     "output_type": "stream",
     "text": [
      "400<100= False\n",
      "10 x 2= 20: True\n",
      "50>10= True\n",
      "50 x 2 != 100= False\n",
      "2 x 3 x 4 >= 24= True\n"
     ]
    }
   ],
   "source": [
    "#latihan2\n",
    "\n",
    "print('400<100=',400<100)\n",
    "print('10 x 2= 20:',10*2==20)\n",
    "print('50>10=',50>10)\n",
    "print('50 x 2 != 100=',50*2 != 100)\n",
    "print('2 x 3 x 4 >= 24=',2*3*4 >= 24)"
   ]
  },
  {
   "cell_type": "code",
   "execution_count": 44,
   "id": "bc5aa834",
   "metadata": {},
   "outputs": [
    {
     "name": "stdout",
     "output_type": "stream",
     "text": [
      "nilai1 dan nilai2 = False\n",
      "nilai1 dan nilai2 = True\n",
      "nilai1 dan nilai2 = True\n",
      "nilai1 dan nilai2 = True\n"
     ]
    }
   ],
   "source": [
    "#operator logika\n",
    "\n",
    "a < 5 and a < 10\n",
    "\n",
    "nilai1 = True\n",
    "nilai2 = False\n",
    "nilai3 = True\n",
    "\n",
    "print(\"nilai1 dan nilai2 = \" + str(nilai1 and nilai2))\n",
    "print(\"nilai1 dan nilai2 = \" + str(nilai1 and nilai3))\n",
    "\n",
    "a < 5 or a < 10\n",
    "\n",
    "nilai1 = True\n",
    "nilai2 = False\n",
    "nilai3 = True\n",
    "\n",
    "print(\"nilai1 dan nilai2 = \" + str(nilai1 or nilai2))\n",
    "print(\"nilai1 dan nilai2 = \" + str(nilai1 or nilai3))"
   ]
  },
  {
   "cell_type": "code",
   "execution_count": 43,
   "id": "ceb61a45",
   "metadata": {},
   "outputs": [
    {
     "name": "stdout",
     "output_type": "stream",
     "text": [
      "murah dan diskon = True\n",
      "tidak laku = False\n"
     ]
    }
   ],
   "source": [
    "#latihan 3\n",
    " \n",
    "murah = True\n",
    "diskon = True\n",
    "\n",
    "print(\"murah dan diskon = \" + str(murah and diskon))\n",
    "print(\"tidak laku = \" + str(not murah and not diskon))\n",
    "\n"
   ]
  },
  {
   "cell_type": "code",
   "execution_count": 47,
   "id": "bbcceb0c",
   "metadata": {},
   "outputs": [
    {
     "name": "stdout",
     "output_type": "stream",
     "text": [
      "a is b : True\n",
      "a is not b : False\n",
      "list a is list b : False\n",
      "nama a == nama b : True\n",
      "nama a is nama b : True\n",
      "nama a is not nama b : False\n"
     ]
    }
   ],
   "source": [
    "a = 5\n",
    "b = 5\n",
    "list_a = [1, 2, 3]\n",
    "list_b = [1, 2, 3]\n",
    "nama_a = 'budi'\n",
    "nama_b = 'budi'\n",
    "\n",
    "# output True\n",
    "print('a is b :', a is b)\n",
    "# false False\n",
    "print('a is not b :',a is not b)\n",
    "\n",
    "# output false\n",
    "print('list a is list b :', list_a is list_b)\n",
    "# false True\n",
    "print('nama a == nama b :',list_a == list_b)\n",
    "\n",
    "# output True\n",
    "print('nama a is nama b :', nama_a is nama_b)\n",
    "# false False\n",
    "print('nama a is not nama b :', nama_a is not nama_b)"
   ]
  },
  {
   "cell_type": "code",
   "execution_count": 54,
   "id": "83b6ea70",
   "metadata": {},
   "outputs": [
    {
     "name": "stdout",
     "output_type": "stream",
     "text": [
      "apakah 'c' ada di variabel perusahaan? True\n",
      "apakah 'z' tidak ada di variabel perusahaan? False\n",
      "apakah 'jawa' ada di list pulau? True\n",
      "apakah 'jawa' ada di list pulau? False\n"
     ]
    }
   ],
   "source": [
    "perusahaan = 'microsoft'\n",
    "list_pulau = ['jawa', 'sumatra', 'sulawesi']\n",
    "\n",
    "mahasiswa = {\n",
    "    'nama': 'patrick',\n",
    "    'asal': 'Bikini Bottom'\n",
    "}\n",
    "\n",
    "print(\n",
    "\"apakah 'c' ada di variabel perusahaan?\", 'c' in perusahaan)\n",
    "\n",
    "print(\n",
    "\"apakah 'z' tidak ada di variabel perusahaan?\", 'c' not in perusahaan)\n",
    "\n",
    "print(\n",
    "\"apakah 'jawa' ada di list pulau?\", 'jawa' in list_pulau)\n",
    "\n",
    "print(\n",
    "\"apakah 'jawa' ada di list pulau?\", 'jawa' not in list_pulau)"
   ]
  },
  {
   "cell_type": "code",
   "execution_count": 63,
   "id": "5cc20bac",
   "metadata": {},
   "outputs": [
    {
     "name": "stdout",
     "output_type": "stream",
     "text": [
      "00000000\n",
      "00000001\n",
      "00000010\n",
      "00000011\n",
      "00000100\n",
      "00000101\n",
      "00000110\n",
      "00000111\n",
      "00001000\n",
      "00001001\n",
      "00001010\n",
      "01000000\n",
      "0b1000000\n"
     ]
    }
   ],
   "source": [
    "print(format(0, '08b'))\n",
    "print(format(1, '08b'))\n",
    "print(format(2, '08b'))\n",
    "print(format(3, '08b'))\n",
    "print(format(4, '08b'))\n",
    "print(format(5, '08b'))\n",
    "print(format(6, '08b'))\n",
    "print(format(7, '08b'))\n",
    "print(format(8, '08b'))\n",
    "print(format(9, '08b'))\n",
    "print(format(10, '08b'))\n",
    "print(format(64, '08b'))\n",
    "print(bin (b))"
   ]
  },
  {
   "cell_type": "code",
   "execution_count": 66,
   "id": "fb7f1f3e",
   "metadata": {},
   "outputs": [
    {
     "name": "stdout",
     "output_type": "stream",
     "text": [
      "huruf h: 01101000\n",
      "huruf e: 01100101\n",
      "huruf l: 01101100\n",
      "huruf l: 01101100\n",
      "huruf o: 01101111\n"
     ]
    }
   ],
   "source": [
    "#biner dari kata HALLO\n",
    "\n",
    "#H=104\n",
    "print('huruf h:',format(104, '08b'))\n",
    "#A=101\n",
    "print('huruf e:',format(101, '08b'))\n",
    "#L=108\n",
    "print('huruf l:',format(108, '08b'))\n",
    "#L=108\n",
    "print('huruf l:',format(108, '08b'))\n",
    "#o=111\n",
    "print('huruf o:',format(111, '08b'))"
   ]
  },
  {
   "cell_type": "code",
   "execution_count": null,
   "id": "3ccc4195",
   "metadata": {},
   "outputs": [],
   "source": []
  }
 ],
 "metadata": {
  "kernelspec": {
   "display_name": "Python 3 (ipykernel)",
   "language": "python",
   "name": "python3"
  },
  "language_info": {
   "codemirror_mode": {
    "name": "ipython",
    "version": 3
   },
   "file_extension": ".py",
   "mimetype": "text/x-python",
   "name": "python",
   "nbconvert_exporter": "python",
   "pygments_lexer": "ipython3",
   "version": "3.9.12"
  }
 },
 "nbformat": 4,
 "nbformat_minor": 5
}
